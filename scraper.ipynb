{
 "cells": [
  {
   "cell_type": "code",
   "execution_count": 12,
   "metadata": {},
   "outputs": [],
   "source": [
    "from bs4 import BeautifulSoup\n",
    "import requests as req\n",
    "import pandas as pd\n",
    "import json\n",
    "import re\n",
    "\n",
    "html_doc = req.get(\n",
    "    'https://free-braindumps.com/linux-foundation/free-kcna-braindumps.html?p=2')\n"
   ]
  },
  {
   "cell_type": "code",
   "execution_count": 13,
   "metadata": {},
   "outputs": [],
   "source": [
    "soup = BeautifulSoup(html_doc.text, 'html.parser')\n"
   ]
  },
  {
   "cell_type": "code",
   "execution_count": 14,
   "metadata": {},
   "outputs": [
    {
     "data": {
      "text/plain": [
       "<div class=\"panel panel-default\"><div class=\"panel-heading\" id=\"heading_91\" role=\"tab\"><a aria-controls=\"collapse_91\" aria-expanded=\"true\" data-toggle=\"collapse\" href=\"#collapse_91\" role=\"button\"><h4 class=\"panel-title\"><strong class=\"text-uppercase\">QUESTION: 3</strong> <span class=\"pull-right\"></span></h4></a></div><div aria-labelledby=\"heading_91\" class=\"panel-collapse collapse in\" id=\"collapse_91\" role=\"tabpanel\"><div class=\"panel-body\"><div class=\"hidden\"><a class=\"text-right pull-right\" data-target=\"#examTopic_91\" data-toggle=\"modal\" href=\"javascript:\"> View Related Case Study</a> <br/><div aria-hidden=\"true\" aria-labelledby=\"exampleModalCenterTitle\" class=\"modal fade\" id=\"examTopic_91\" role=\"dialog\" tabindex=\"-1\"><div class=\"modal-dialog modal-dialog-centered modal-lg\" role=\"document\"><div class=\"modal-content\"><div class=\"modal-header bg-default\"><button aria-label=\"Close\" class=\"close\" data-dismiss=\"modal\" type=\"button\"><span aria-hidden=\"true\">×</span></button><h4 class=\"modal-title\" id=\"examTopicTitle_91\"></h4></div><div class=\"modal-body\">This Exam Topic does not have a case study.</div><div class=\"modal-footer\"><button class=\"btn btn-primary\" data-dismiss=\"modal\" type=\"button\">Close</button></div></div></div></div></div><p class=\"lead\">What kind of limitation cgroups allows?<div><ol class=\"rounded-list-multi\" type=\"A\"><li data-correct=\"True\">Prioritization<li data-correct=\"True\">Resource limiting<li data-correct=\"True\">Accounting<li data-correct=\"False\">None of the options<li data-correct=\"True\">Control<li data-correct=\"False\">Server cpu and memory</li></li></li></li></li></li></ol></div><div class=\"collapse\" id=\"answerQ91\"><p><strong>Answer(s):</strong> A,B,C,E <br/></p><br/></div><a aria-controls=\"collapseExample\" aria-expanded=\"false\" class=\"btn btn-primary btn-lg\" data-toggle=\"collapse\" href=\"#answerQ91\" role=\"button\">Reveal Solution </a> <a aria-controls=\"collapse_91\" aria-expanded=\"true\" class=\"collapsed btn btn-default btn-lg\" data-toggle=\"collapse\" href=\"#collapse_91\" role=\"button\">Next Question </a></p></div></div></div>"
      ]
     },
     "execution_count": 14,
     "metadata": {},
     "output_type": "execute_result"
    }
   ],
   "source": [
    "panel = soup.find_all('div', class_='panel panel-default')[2]\n",
    "panel\n"
   ]
  },
  {
   "cell_type": "code",
   "execution_count": 15,
   "metadata": {},
   "outputs": [
    {
     "data": {
      "text/plain": [
       "'What kind of limitation cgroups allows?'"
      ]
     },
     "execution_count": 15,
     "metadata": {},
     "output_type": "execute_result"
    }
   ],
   "source": [
    "question_text = panel.find('p', class_='lead').text\n",
    "question_text.split('?')[0] + '?'\n"
   ]
  },
  {
   "cell_type": "code",
   "execution_count": 16,
   "metadata": {},
   "outputs": [
    {
     "data": {
      "text/plain": [
       "<ol class=\"rounded-list-multi\" type=\"A\"><li data-correct=\"True\">Prioritization<li data-correct=\"True\">Resource limiting<li data-correct=\"True\">Accounting<li data-correct=\"False\">None of the options<li data-correct=\"True\">Control<li data-correct=\"False\">Server cpu and memory</li></li></li></li></li></li></ol>"
      ]
     },
     "execution_count": 16,
     "metadata": {},
     "output_type": "execute_result"
    }
   ],
   "source": [
    "panel_collapse = panel.find('div', class_='panel-collapse')\n",
    "options = panel_collapse.find('ol', class_='rounded-list-multi')\n",
    "options\n"
   ]
  },
  {
   "cell_type": "code",
   "execution_count": 17,
   "metadata": {},
   "outputs": [
    {
     "data": {
      "text/plain": [
       "['Prioritization',\n",
       " 'Resource limiting',\n",
       " 'Accounting',\n",
       " 'None of the options',\n",
       " 'Control',\n",
       " 'Server cpu and memory</li>']"
      ]
     },
     "execution_count": 17,
     "metadata": {},
     "output_type": "execute_result"
    }
   ],
   "source": [
    "options = str(options)\n",
    "li_texts = options.split('<li ')\n",
    "answer_texts = [item.strip().replace('</li></li></li></li></li></ol>', '').replace('data-correct=\"False\">',\n",
    "                                                                                   '').replace('data-correct=\"True\">', '') for item in options.split('<li')[1:]]\n",
    "answer_texts\n"
   ]
  },
  {
   "cell_type": "code",
   "execution_count": 18,
   "metadata": {},
   "outputs": [
    {
     "data": {
      "text/plain": [
       "['data-correct=\"True\">Prioritization',\n",
       " 'data-correct=\"True\">Resource limiting',\n",
       " 'data-correct=\"True\">Accounting',\n",
       " 'data-correct=\"False\">None of the options',\n",
       " 'data-correct=\"True\">Control',\n",
       " 'data-correct=\"False\">Server cpu and memory</li>']"
      ]
     },
     "execution_count": 18,
     "metadata": {},
     "output_type": "execute_result"
    }
   ],
   "source": [
    "li_texts = options.split('<li ')\n",
    "answers = [item.strip().replace('</li></li></li></li></li></ol>', '')\n",
    "           for item in options.split('<li')[1:]]\n",
    "answers\n"
   ]
  },
  {
   "cell_type": "code",
   "execution_count": 19,
   "metadata": {},
   "outputs": [
    {
     "data": {
      "text/plain": [
       "['Prioritization', 'Resource limiting', 'Accounting', 'Control']"
      ]
     },
     "execution_count": 19,
     "metadata": {},
     "output_type": "execute_result"
    }
   ],
   "source": [
    "correct_answers = []\n",
    "for answer in answers:\n",
    "    if 'data-correct=\"True\">' in answer:\n",
    "        correct_answers.append(\n",
    "            answer.strip().replace('data-correct=\"True\">', ''))\n",
    "\n",
    "correct_answers\n"
   ]
  },
  {
   "cell_type": "code",
   "execution_count": 34,
   "metadata": {},
   "outputs": [
    {
     "name": "stdout",
     "output_type": "stream",
     "text": [
      "Processing https://free-braindumps.com/linux-foundation/free-kcna-braindumps.html?p=2\n",
      "Processing https://free-braindumps.com/linux-foundation/free-kcna-braindumps.html?p=3\n",
      "Processing https://free-braindumps.com/linux-foundation/free-kcna-braindumps.html?p=4\n",
      "Processing https://free-braindumps.com/linux-foundation/free-kcna-braindumps.html?p=5\n",
      "Processing https://free-braindumps.com/linux-foundation/free-kcna-braindumps.html?p=6\n",
      "Processing https://free-braindumps.com/linux-foundation/free-kcna-braindumps.html?p=7\n",
      "Processing https://free-braindumps.com/linux-foundation/free-kcna-braindumps.html?p=8\n",
      "Processing https://free-braindumps.com/linux-foundation/free-kcna-braindumps.html?p=9\n",
      "Processing https://free-braindumps.com/linux-foundation/free-kcna-braindumps.html?p=10\n",
      "Processing https://free-braindumps.com/linux-foundation/free-kcna-braindumps.html?p=11\n",
      "Processing https://free-braindumps.com/linux-foundation/free-kcna-braindumps.html?p=12\n",
      "Processing https://free-braindumps.com/linux-foundation/free-kcna-braindumps.html?p=13\n",
      "Processing https://free-braindumps.com/linux-foundation/free-kcna-braindumps.html?p=14\n",
      "Processing https://free-braindumps.com/linux-foundation/free-kcna-braindumps.html?p=15\n",
      "Processing https://free-braindumps.com/linux-foundation/free-kcna-braindumps.html?p=16\n",
      "Processing https://free-braindumps.com/linux-foundation/free-kcna-braindumps.html?p=17\n",
      "Processing https://free-braindumps.com/linux-foundation/free-kcna-braindumps.html?p=18\n"
     ]
    }
   ],
   "source": [
    "base_url = 'https://free-braindumps.com/linux-foundation/free-kcna-braindumps.html?p='\n",
    "urls = [base_url + str(i) for i in range(2, 19)]\n",
    "questions_list = []  # Initialize an empty list to store all questions\n",
    "\n",
    "for url in urls:\n",
    "    print(\"Processing\", url)\n",
    "    html_doc = req.get(url)\n",
    "    soup = BeautifulSoup(html_doc.text, 'html.parser')\n",
    "    question_panels = soup.find_all('div', class_='panel panel-default')\n",
    "\n",
    "    for panel in question_panels:\n",
    "        question_data = {}\n",
    "\n",
    "        # Extract the question text\n",
    "        question_text = panel.find('p', class_='lead').text\n",
    "        question_data['question'] = question_text.split('?')[0] + '?'\n",
    "\n",
    "        # Extract the answer options\n",
    "        panel_collapse = panel.find('div', class_='panel-collapse')\n",
    "        options = panel_collapse.find('ol', class_='rounded-list-multi')\n",
    "        if (options):\n",
    "            options = str(options)\n",
    "            li_texts = options.split('<li ')\n",
    "            answer_texts = [item.strip().replace('</li></li></li></li></li></ol>', '').replace(\n",
    "                'data-correct=\"False\">', '').replace('data-correct=\"True\">', '') for item in options.split('<li')[1:]]\n",
    "            question_data['answer_options'] = answer_texts\n",
    "\n",
    "            # Extract the correct answers\n",
    "            answers = [item.strip().replace('</li></li></li></li></li></ol>', '').replace('</li>', '')\n",
    "                       for item in options.split('<li')[1:]]\n",
    "            correct_answers = []\n",
    "            for answer in answers:\n",
    "                if 'data-correct=\"True\">' in answer:\n",
    "                    correct_answers.append(\n",
    "                        answer.strip().replace('data-correct=\"True\">', ''))\n",
    "            question_data['correct_answers'] = correct_answers\n",
    "        else:\n",
    "            options = panel.find('ol', class_='rounded-list')\n",
    "            options = str(options)\n",
    "            li_texts = options.split('<li ')\n",
    "            answer_texts = [item.strip().replace('</li></li></li></li></li></ol>', '').replace(\n",
    "                'data-correct=\"False\">', '').replace('data-correct=\"True\">', '') for item in options.split('<li')[1:]]\n",
    "            question_data['answer_options'] = answer_texts\n",
    "\n",
    "            # Extract the correct answers\n",
    "            answers = [item.strip().replace('</li></li></li></li></li></ol>', '').replace('</li>', '')\n",
    "                       for item in options.split('<li')[1:]]\n",
    "            correct_answers = []\n",
    "            for answer in answers:\n",
    "                if 'data-correct=\"True\">' in answer:\n",
    "                    correct_answers.append(\n",
    "                        answer.strip().replace('data-correct=\"True\">', ''))\n",
    "            question_data['correct_answers'] = correct_answers\n",
    "\n",
    "        # Add the question data to the list\n",
    "        questions_list.append(question_data)\n",
    "\n",
    "# Write all the collected data to a JSON file\n",
    "with open('questions.json', 'w', encoding='utf-8') as json_file:\n",
    "    json.dump(questions_list, json_file, ensure_ascii=False, indent=4)\n"
   ]
  },
  {
   "cell_type": "code",
   "execution_count": 35,
   "metadata": {},
   "outputs": [
    {
     "data": {
      "text/html": [
       "<div>\n",
       "<style scoped>\n",
       "    .dataframe tbody tr th:only-of-type {\n",
       "        vertical-align: middle;\n",
       "    }\n",
       "\n",
       "    .dataframe tbody tr th {\n",
       "        vertical-align: top;\n",
       "    }\n",
       "\n",
       "    .dataframe thead th {\n",
       "        text-align: right;\n",
       "    }\n",
       "</style>\n",
       "<table border=\"1\" class=\"dataframe\">\n",
       "  <thead>\n",
       "    <tr style=\"text-align: right;\">\n",
       "      <th></th>\n",
       "      <th>question</th>\n",
       "      <th>answer_options</th>\n",
       "      <th>correct_answers</th>\n",
       "    </tr>\n",
       "  </thead>\n",
       "  <tbody>\n",
       "    <tr>\n",
       "      <th>0</th>\n",
       "      <td>Which is not a service type in Kubernetes?</td>\n",
       "      <td>[ClusterIP, NodePort, Ingress, LoadBalancer, E...</td>\n",
       "      <td>[Ingress]</td>\n",
       "    </tr>\n",
       "    <tr>\n",
       "      <th>1</th>\n",
       "      <td>What standard does kubelet use to communicate ...</td>\n",
       "      <td>[Service Mesh Interface (SMI), CRI-O, Containe...</td>\n",
       "      <td>[Container Runtime Interface (CRI)&lt;/ol&gt;]</td>\n",
       "    </tr>\n",
       "    <tr>\n",
       "      <th>2</th>\n",
       "      <td>What kind of limitation cgroups allows?</td>\n",
       "      <td>[Prioritization, Resource limiting, Accounting...</td>\n",
       "      <td>[Prioritization, Resource limiting, Accounting...</td>\n",
       "    </tr>\n",
       "    <tr>\n",
       "      <th>3</th>\n",
       "      <td>What is the most common way to scale the appli...</td>\n",
       "      <td>[Parallel Scaling, Horizontal Scaling, Vertica...</td>\n",
       "      <td>[Horizontal Scaling]</td>\n",
       "    </tr>\n",
       "    <tr>\n",
       "      <th>4</th>\n",
       "      <td>Which of the following is an advantage a cloud...</td>\n",
       "      <td>[Cloud-native microservices applications tend ...</td>\n",
       "      <td>[Cloud-native microservice applications tend t...</td>\n",
       "    </tr>\n",
       "    <tr>\n",
       "      <th>...</th>\n",
       "      <td>...</td>\n",
       "      <td>...</td>\n",
       "      <td>...</td>\n",
       "    </tr>\n",
       "    <tr>\n",
       "      <th>63</th>\n",
       "      <td>kubeadm is an administrative dashboard for kub...</td>\n",
       "      <td>[False, True&lt;/li&gt;&lt;/li&gt;&lt;/ol&gt;]</td>\n",
       "      <td>[False]</td>\n",
       "    </tr>\n",
       "    <tr>\n",
       "      <th>64</th>\n",
       "      <td>What CNCF project is the leading DNS project i...</td>\n",
       "      <td>[Kubernetes, gRPC, KubeDNS, CoreDNS&lt;/li&gt;&lt;/li&gt;&lt;...</td>\n",
       "      <td>[CoreDNS&lt;/ol&gt;]</td>\n",
       "    </tr>\n",
       "    <tr>\n",
       "      <th>65</th>\n",
       "      <td>The three typical opentelemetry data is?</td>\n",
       "      <td>[Metrics, Traces, Logs, All of the options&lt;/li...</td>\n",
       "      <td>[All of the options&lt;/ol&gt;]</td>\n",
       "    </tr>\n",
       "    <tr>\n",
       "      <th>66</th>\n",
       "      <td>Which kubernetes object do deployments use beh...</td>\n",
       "      <td>[Horizontal pod autoscaler, ReplicaSets, kubec...</td>\n",
       "      <td>[ReplicaSets]</td>\n",
       "    </tr>\n",
       "    <tr>\n",
       "      <th>67</th>\n",
       "      <td>Which project in this list is a leading projec...</td>\n",
       "      <td>[Jaeger, Vitess, Argo, Kubernetes&lt;/li&gt;&lt;/li&gt;&lt;/l...</td>\n",
       "      <td>[Jaeger]</td>\n",
       "    </tr>\n",
       "  </tbody>\n",
       "</table>\n",
       "<p>68 rows × 3 columns</p>\n",
       "</div>"
      ],
      "text/plain": [
       "                                             question  \\\n",
       "0          Which is not a service type in Kubernetes?   \n",
       "1   What standard does kubelet use to communicate ...   \n",
       "2             What kind of limitation cgroups allows?   \n",
       "3   What is the most common way to scale the appli...   \n",
       "4   Which of the following is an advantage a cloud...   \n",
       "..                                                ...   \n",
       "63  kubeadm is an administrative dashboard for kub...   \n",
       "64  What CNCF project is the leading DNS project i...   \n",
       "65           The three typical opentelemetry data is?   \n",
       "66  Which kubernetes object do deployments use beh...   \n",
       "67  Which project in this list is a leading projec...   \n",
       "\n",
       "                                       answer_options  \\\n",
       "0   [ClusterIP, NodePort, Ingress, LoadBalancer, E...   \n",
       "1   [Service Mesh Interface (SMI), CRI-O, Containe...   \n",
       "2   [Prioritization, Resource limiting, Accounting...   \n",
       "3   [Parallel Scaling, Horizontal Scaling, Vertica...   \n",
       "4   [Cloud-native microservices applications tend ...   \n",
       "..                                                ...   \n",
       "63                       [False, True</li></li></ol>]   \n",
       "64  [Kubernetes, gRPC, KubeDNS, CoreDNS</li></li><...   \n",
       "65  [Metrics, Traces, Logs, All of the options</li...   \n",
       "66  [Horizontal pod autoscaler, ReplicaSets, kubec...   \n",
       "67  [Jaeger, Vitess, Argo, Kubernetes</li></li></l...   \n",
       "\n",
       "                                      correct_answers  \n",
       "0                                           [Ingress]  \n",
       "1            [Container Runtime Interface (CRI)</ol>]  \n",
       "2   [Prioritization, Resource limiting, Accounting...  \n",
       "3                                [Horizontal Scaling]  \n",
       "4   [Cloud-native microservice applications tend t...  \n",
       "..                                                ...  \n",
       "63                                            [False]  \n",
       "64                                     [CoreDNS</ol>]  \n",
       "65                          [All of the options</ol>]  \n",
       "66                                      [ReplicaSets]  \n",
       "67                                           [Jaeger]  \n",
       "\n",
       "[68 rows x 3 columns]"
      ]
     },
     "execution_count": 35,
     "metadata": {},
     "output_type": "execute_result"
    }
   ],
   "source": [
    "data = pd.DataFrame(questions_list)\n",
    "data\n"
   ]
  },
  {
   "cell_type": "code",
   "execution_count": null,
   "metadata": {},
   "outputs": [],
   "source": []
  }
 ],
 "metadata": {
  "kernelspec": {
   "display_name": "Python 3",
   "language": "python",
   "name": "python3"
  },
  "language_info": {
   "codemirror_mode": {
    "name": "ipython",
    "version": 3
   },
   "file_extension": ".py",
   "mimetype": "text/x-python",
   "name": "python",
   "nbconvert_exporter": "python",
   "pygments_lexer": "ipython3",
   "version": "3.10.4"
  },
  "orig_nbformat": 4
 },
 "nbformat": 4,
 "nbformat_minor": 2
}
